{
  "nbformat": 4,
  "nbformat_minor": 0,
  "metadata": {
    "colab": {
      "private_outputs": true,
      "provenance": []
    },
    "kernelspec": {
      "name": "python3",
      "display_name": "Python 3"
    },
    "language_info": {
      "name": "python"
    }
  },
  "cells": [
    {
      "cell_type": "code",
      "execution_count": null,
      "metadata": {
        "id": "0_YUh_m4UluX"
      },
      "outputs": [],
      "source": [
        "import numpy as np\n",
        "import matplotlib.pyplot as plt\n",
        "from scipy.stats import norm"
      ]
    },
    {
      "cell_type": "code",
      "source": [
        "M = 1_000\n",
        "u = np.random.uniform(size=M)"
      ],
      "metadata": {
        "id": "HgVBnCxlUsVT"
      },
      "execution_count": null,
      "outputs": []
    },
    {
      "cell_type": "code",
      "source": [
        "u"
      ],
      "metadata": {
        "id": "pIFD_nC-VOHr"
      },
      "execution_count": null,
      "outputs": []
    },
    {
      "cell_type": "code",
      "source": [
        "plt.hist(u)"
      ],
      "metadata": {
        "id": "j20iTuOvVOmq"
      },
      "execution_count": null,
      "outputs": []
    },
    {
      "cell_type": "code",
      "source": [
        "y = norm.ppf(u)"
      ],
      "metadata": {
        "id": "HP900w-sVSV4"
      },
      "execution_count": null,
      "outputs": []
    },
    {
      "cell_type": "code",
      "source": [
        "y"
      ],
      "metadata": {
        "id": "NV7iIn61Vxbj"
      },
      "execution_count": null,
      "outputs": []
    },
    {
      "cell_type": "code",
      "source": [
        "plt.hist(y, bins=50)"
      ],
      "metadata": {
        "id": "aixBJ-KMVyBF"
      },
      "execution_count": null,
      "outputs": []
    },
    {
      "cell_type": "code",
      "source": [
        "u.shape"
      ],
      "metadata": {
        "id": "NlGeu3dNVz0u"
      },
      "execution_count": null,
      "outputs": []
    },
    {
      "cell_type": "code",
      "source": [
        "i = np.arange(1, M+1)"
      ],
      "metadata": {
        "id": "YJ7jogsxXt2d"
      },
      "execution_count": null,
      "outputs": []
    },
    {
      "cell_type": "code",
      "source": [
        "i"
      ],
      "metadata": {
        "id": "J4IMW8NKX1Dr"
      },
      "execution_count": null,
      "outputs": []
    },
    {
      "cell_type": "code",
      "source": [
        "uhat = (i - 1 + u)/M"
      ],
      "metadata": {
        "id": "lwOmzeAqX1nD"
      },
      "execution_count": null,
      "outputs": []
    },
    {
      "cell_type": "code",
      "source": [
        "uhat"
      ],
      "metadata": {
        "id": "aoyvcuoTX-F4"
      },
      "execution_count": null,
      "outputs": []
    },
    {
      "cell_type": "code",
      "source": [
        "plt.hist(uhat)"
      ],
      "metadata": {
        "id": "iLYpRuwnX_g0"
      },
      "execution_count": null,
      "outputs": []
    },
    {
      "cell_type": "code",
      "source": [
        "yhat = norm.ppf(uhat)"
      ],
      "metadata": {
        "id": "y89aawaPYDL8"
      },
      "execution_count": null,
      "outputs": []
    },
    {
      "cell_type": "code",
      "source": [
        "plt.hist(yhat);"
      ],
      "metadata": {
        "id": "_ZOrMlAeYIOm"
      },
      "execution_count": null,
      "outputs": []
    },
    {
      "cell_type": "code",
      "source": [
        "yhat_prime = np.concatenate((yhat, -yhat))"
      ],
      "metadata": {
        "id": "S2V2JAJaYKDP"
      },
      "execution_count": null,
      "outputs": []
    },
    {
      "cell_type": "code",
      "source": [
        "plt.hist(yhat_prime, bins=40);"
      ],
      "metadata": {
        "id": "qmW69ocnYPQ2"
      },
      "execution_count": null,
      "outputs": []
    },
    {
      "cell_type": "code",
      "source": [
        "j = np.linspace(start=0.01, stop=.99, num=100)"
      ],
      "metadata": {
        "id": "MzH0XdLrYo57"
      },
      "execution_count": null,
      "outputs": []
    },
    {
      "cell_type": "code",
      "source": [
        "j"
      ],
      "metadata": {
        "id": "ovmSIq2oZcui"
      },
      "execution_count": null,
      "outputs": []
    },
    {
      "cell_type": "code",
      "source": [
        "x = norm.ppf(j)"
      ],
      "metadata": {
        "id": "AdLA6NnOZtWv"
      },
      "execution_count": null,
      "outputs": []
    },
    {
      "cell_type": "code",
      "source": [
        "x"
      ],
      "metadata": {
        "id": "wE_q9oE7ZzQZ"
      },
      "execution_count": null,
      "outputs": []
    },
    {
      "cell_type": "code",
      "source": [
        "plt.hist(x, bins=40)"
      ],
      "metadata": {
        "id": "VJpXLcCKZzs5"
      },
      "execution_count": null,
      "outputs": []
    },
    {
      "cell_type": "code",
      "source": [],
      "metadata": {
        "id": "tqSm4RVgZ6T7"
      },
      "execution_count": null,
      "outputs": []
    }
  ]
}