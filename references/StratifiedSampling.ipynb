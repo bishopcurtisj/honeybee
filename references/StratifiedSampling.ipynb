{
 "cells": [
  {
   "cell_type": "code",
   "execution_count": 1,
   "metadata": {},
   "outputs": [],
   "source": [
    "import numpy as np\n",
    "import scipy.stats as stats\n",
    "import matplotlib.pyplot as plt\n"
   ]
  },
  {
   "cell_type": "markdown",
   "metadata": {},
   "source": [
    "Caclulate price and se using:\n",
    "- Naive MC\n",
    "- Autithic MC \n",
    "- Strat MC\n",
    "- A+S MC M=1,000\n",
    "\n",
    "calculate M that causes convergence for first three"
   ]
  },
  {
   "cell_type": "code",
   "execution_count": null,
   "metadata": {},
   "outputs": [],
   "source": [
    "S=41\n",
    "K=40\n",
    "v=0.3\n",
    "r=0.08\n",
    "T=1\n",
    "\n",
    "BSM=6.26\n",
    "n=1000"
   ]
  },
  {
   "cell_type": "code",
   "execution_count": null,
   "metadata": {},
   "outputs": [],
   "source": [
    "norm=stats.norm(0,1)\n"
   ]
  },
  {
   "cell_type": "markdown",
   "metadata": {},
   "source": [
    "$u_i& for i = 1,...,100\\\n",
    "$y_i = CFF^-1(u_i)$\\\n",
    "        $N^-1(u_i)$\\\n",
    "$\\hat{u_i}=(i-1+u_i)/M$"
   ]
  }
 ],
 "metadata": {
  "kernelspec": {
   "display_name": "base",
   "language": "python",
   "name": "python3"
  },
  "language_info": {
   "codemirror_mode": {
    "name": "ipython",
    "version": 3
   },
   "file_extension": ".py",
   "mimetype": "text/x-python",
   "name": "python",
   "nbconvert_exporter": "python",
   "pygments_lexer": "ipython3",
   "version": "3.9.18"
  }
 },
 "nbformat": 4,
 "nbformat_minor": 2
}
